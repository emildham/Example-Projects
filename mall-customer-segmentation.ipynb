{
 "cells": [
  {
   "cell_type": "code",
   "execution_count": 1,
   "id": "a63f60d9",
   "metadata": {
    "_cell_guid": "b1076dfc-b9ad-4769-8c92-a6c4dae69d19",
    "_uuid": "8f2839f25d086af736a60e9eeb907d3b93b6e0e5",
    "execution": {
     "iopub.execute_input": "2022-03-12T01:21:25.020469Z",
     "iopub.status.busy": "2022-03-12T01:21:25.019529Z",
     "iopub.status.idle": "2022-03-12T01:21:26.467488Z",
     "shell.execute_reply": "2022-03-12T01:21:26.468026Z",
     "shell.execute_reply.started": "2022-03-12T01:09:22.277726Z"
    },
    "papermill": {
     "duration": 1.490641,
     "end_time": "2022-03-12T01:21:26.468321",
     "exception": false,
     "start_time": "2022-03-12T01:21:24.977680",
     "status": "completed"
    },
    "tags": []
   },
   "outputs": [
    {
     "name": "stdout",
     "output_type": "stream",
     "text": [
      "/kaggle/input/customer-segmentation-tutorial-in-python/Mall_Customers.csv\n"
     ]
    }
   ],
   "source": [
    "# This Python 3 environment comes with many helpful analytics libraries installed\n",
    "# It is defined by the kaggle/python Docker image: https://github.com/kaggle/docker-python\n",
    "# For example, here's several helpful packages to load\n",
    "\n",
    "import numpy as np # linear algebra\n",
    "import pandas as pd # data processing, CSV file I/O (e.g. pd.read_csv)\n",
    "import matplotlib.pyplot as plt\n",
    "import seaborn as sns\n",
    "from sklearn.datasets import make_blobs\n",
    "from sklearn.cluster import KMeans\n",
    "from sklearn.metrics import silhouette_score\n",
    "from sklearn.preprocessing import StandardScaler\n",
    "from sklearn.decomposition import PCA\n",
    "from mpl_toolkits.mplot3d import Axes3D\n",
    "\n",
    "# Input data files are available in the read-only \"../input/\" directory\n",
    "# For example, running this (by clicking run or pressing Shift+Enter) will list all files under the input directory\n",
    "\n",
    "import os\n",
    "for dirname, _, filenames in os.walk('/kaggle/input'):\n",
    "    for filename in filenames:\n",
    "        print(os.path.join(dirname, filename))\n",
    "\n",
    "# You can write up to 20GB to the current directory (/kaggle/working/) that gets preserved as output when you create a version using \"Save & Run All\" \n",
    "# You can also write temporary files to /kaggle/temp/, but they won't be saved outside of the current session"
   ]
  },
  {
   "cell_type": "code",
   "execution_count": 2,
   "id": "4ad9bda6",
   "metadata": {
    "execution": {
     "iopub.execute_input": "2022-03-12T01:21:26.534321Z",
     "iopub.status.busy": "2022-03-12T01:21:26.533348Z",
     "iopub.status.idle": "2022-03-12T01:21:26.565251Z",
     "shell.execute_reply": "2022-03-12T01:21:26.565765Z",
     "shell.execute_reply.started": "2022-03-12T01:09:23.579461Z"
    },
    "papermill": {
     "duration": 0.066344,
     "end_time": "2022-03-12T01:21:26.565947",
     "exception": false,
     "start_time": "2022-03-12T01:21:26.499603",
     "status": "completed"
    },
    "tags": []
   },
   "outputs": [
    {
     "data": {
      "text/html": [
       "<div>\n",
       "<style scoped>\n",
       "    .dataframe tbody tr th:only-of-type {\n",
       "        vertical-align: middle;\n",
       "    }\n",
       "\n",
       "    .dataframe tbody tr th {\n",
       "        vertical-align: top;\n",
       "    }\n",
       "\n",
       "    .dataframe thead th {\n",
       "        text-align: right;\n",
       "    }\n",
       "</style>\n",
       "<table border=\"1\" class=\"dataframe\">\n",
       "  <thead>\n",
       "    <tr style=\"text-align: right;\">\n",
       "      <th></th>\n",
       "      <th>CustomerID</th>\n",
       "      <th>Gender</th>\n",
       "      <th>Age</th>\n",
       "      <th>Annual Income (k$)</th>\n",
       "      <th>Spending Score (1-100)</th>\n",
       "    </tr>\n",
       "  </thead>\n",
       "  <tbody>\n",
       "    <tr>\n",
       "      <th>0</th>\n",
       "      <td>1</td>\n",
       "      <td>Male</td>\n",
       "      <td>19</td>\n",
       "      <td>15</td>\n",
       "      <td>39</td>\n",
       "    </tr>\n",
       "    <tr>\n",
       "      <th>1</th>\n",
       "      <td>2</td>\n",
       "      <td>Male</td>\n",
       "      <td>21</td>\n",
       "      <td>15</td>\n",
       "      <td>81</td>\n",
       "    </tr>\n",
       "    <tr>\n",
       "      <th>2</th>\n",
       "      <td>3</td>\n",
       "      <td>Female</td>\n",
       "      <td>20</td>\n",
       "      <td>16</td>\n",
       "      <td>6</td>\n",
       "    </tr>\n",
       "    <tr>\n",
       "      <th>3</th>\n",
       "      <td>4</td>\n",
       "      <td>Female</td>\n",
       "      <td>23</td>\n",
       "      <td>16</td>\n",
       "      <td>77</td>\n",
       "    </tr>\n",
       "    <tr>\n",
       "      <th>4</th>\n",
       "      <td>5</td>\n",
       "      <td>Female</td>\n",
       "      <td>31</td>\n",
       "      <td>17</td>\n",
       "      <td>40</td>\n",
       "    </tr>\n",
       "  </tbody>\n",
       "</table>\n",
       "</div>"
      ],
      "text/plain": [
       "   CustomerID  Gender  Age  Annual Income (k$)  Spending Score (1-100)\n",
       "0           1    Male   19                  15                      39\n",
       "1           2    Male   21                  15                      81\n",
       "2           3  Female   20                  16                       6\n",
       "3           4  Female   23                  16                      77\n",
       "4           5  Female   31                  17                      40"
      ]
     },
     "execution_count": 2,
     "metadata": {},
     "output_type": "execute_result"
    }
   ],
   "source": [
    "df = pd.read_csv('/kaggle/input/customer-segmentation-tutorial-in-python/Mall_Customers.csv')\n",
    "df.head()"
   ]
  },
  {
   "cell_type": "code",
   "execution_count": 3,
   "id": "00af965a",
   "metadata": {
    "execution": {
     "iopub.execute_input": "2022-03-12T01:21:26.632320Z",
     "iopub.status.busy": "2022-03-12T01:21:26.631320Z",
     "iopub.status.idle": "2022-03-12T01:21:26.639239Z",
     "shell.execute_reply": "2022-03-12T01:21:26.639691Z",
     "shell.execute_reply.started": "2022-03-12T01:09:23.607877Z"
    },
    "papermill": {
     "duration": 0.04248,
     "end_time": "2022-03-12T01:21:26.639872",
     "exception": false,
     "start_time": "2022-03-12T01:21:26.597392",
     "status": "completed"
    },
    "tags": []
   },
   "outputs": [
    {
     "data": {
      "text/plain": [
       "CustomerID                0\n",
       "Gender                    0\n",
       "Age                       0\n",
       "Annual Income (k$)        0\n",
       "Spending Score (1-100)    0\n",
       "dtype: int64"
      ]
     },
     "execution_count": 3,
     "metadata": {},
     "output_type": "execute_result"
    }
   ],
   "source": [
    "df.isnull().sum()"
   ]
  },
  {
   "cell_type": "code",
   "execution_count": 4,
   "id": "1c566c88",
   "metadata": {
    "execution": {
     "iopub.execute_input": "2022-03-12T01:21:26.708680Z",
     "iopub.status.busy": "2022-03-12T01:21:26.707879Z",
     "iopub.status.idle": "2022-03-12T01:21:26.711096Z",
     "shell.execute_reply": "2022-03-12T01:21:26.711581Z",
     "shell.execute_reply.started": "2022-03-12T01:09:23.615633Z"
    },
    "papermill": {
     "duration": 0.040387,
     "end_time": "2022-03-12T01:21:26.711746",
     "exception": false,
     "start_time": "2022-03-12T01:21:26.671359",
     "status": "completed"
    },
    "tags": []
   },
   "outputs": [
    {
     "data": {
      "text/plain": [
       "(200, 5)"
      ]
     },
     "execution_count": 4,
     "metadata": {},
     "output_type": "execute_result"
    }
   ],
   "source": [
    "df.shape"
   ]
  },
  {
   "cell_type": "code",
   "execution_count": 5,
   "id": "967494fb",
   "metadata": {
    "execution": {
     "iopub.execute_input": "2022-03-12T01:21:26.780260Z",
     "iopub.status.busy": "2022-03-12T01:21:26.779318Z",
     "iopub.status.idle": "2022-03-12T01:21:26.811018Z",
     "shell.execute_reply": "2022-03-12T01:21:26.811530Z",
     "shell.execute_reply.started": "2022-03-12T01:09:23.625364Z"
    },
    "papermill": {
     "duration": 0.067494,
     "end_time": "2022-03-12T01:21:26.811704",
     "exception": false,
     "start_time": "2022-03-12T01:21:26.744210",
     "status": "completed"
    },
    "tags": []
   },
   "outputs": [
    {
     "data": {
      "text/html": [
       "<div>\n",
       "<style scoped>\n",
       "    .dataframe tbody tr th:only-of-type {\n",
       "        vertical-align: middle;\n",
       "    }\n",
       "\n",
       "    .dataframe tbody tr th {\n",
       "        vertical-align: top;\n",
       "    }\n",
       "\n",
       "    .dataframe thead th {\n",
       "        text-align: right;\n",
       "    }\n",
       "</style>\n",
       "<table border=\"1\" class=\"dataframe\">\n",
       "  <thead>\n",
       "    <tr style=\"text-align: right;\">\n",
       "      <th></th>\n",
       "      <th>CustomerID</th>\n",
       "      <th>Age</th>\n",
       "      <th>Annual Income (k$)</th>\n",
       "      <th>Spending Score (1-100)</th>\n",
       "    </tr>\n",
       "  </thead>\n",
       "  <tbody>\n",
       "    <tr>\n",
       "      <th>count</th>\n",
       "      <td>200.000000</td>\n",
       "      <td>200.000000</td>\n",
       "      <td>200.000000</td>\n",
       "      <td>200.000000</td>\n",
       "    </tr>\n",
       "    <tr>\n",
       "      <th>mean</th>\n",
       "      <td>100.500000</td>\n",
       "      <td>38.850000</td>\n",
       "      <td>60.560000</td>\n",
       "      <td>50.200000</td>\n",
       "    </tr>\n",
       "    <tr>\n",
       "      <th>std</th>\n",
       "      <td>57.879185</td>\n",
       "      <td>13.969007</td>\n",
       "      <td>26.264721</td>\n",
       "      <td>25.823522</td>\n",
       "    </tr>\n",
       "    <tr>\n",
       "      <th>min</th>\n",
       "      <td>1.000000</td>\n",
       "      <td>18.000000</td>\n",
       "      <td>15.000000</td>\n",
       "      <td>1.000000</td>\n",
       "    </tr>\n",
       "    <tr>\n",
       "      <th>25%</th>\n",
       "      <td>50.750000</td>\n",
       "      <td>28.750000</td>\n",
       "      <td>41.500000</td>\n",
       "      <td>34.750000</td>\n",
       "    </tr>\n",
       "    <tr>\n",
       "      <th>50%</th>\n",
       "      <td>100.500000</td>\n",
       "      <td>36.000000</td>\n",
       "      <td>61.500000</td>\n",
       "      <td>50.000000</td>\n",
       "    </tr>\n",
       "    <tr>\n",
       "      <th>75%</th>\n",
       "      <td>150.250000</td>\n",
       "      <td>49.000000</td>\n",
       "      <td>78.000000</td>\n",
       "      <td>73.000000</td>\n",
       "    </tr>\n",
       "    <tr>\n",
       "      <th>max</th>\n",
       "      <td>200.000000</td>\n",
       "      <td>70.000000</td>\n",
       "      <td>137.000000</td>\n",
       "      <td>99.000000</td>\n",
       "    </tr>\n",
       "  </tbody>\n",
       "</table>\n",
       "</div>"
      ],
      "text/plain": [
       "       CustomerID         Age  Annual Income (k$)  Spending Score (1-100)\n",
       "count  200.000000  200.000000          200.000000              200.000000\n",
       "mean   100.500000   38.850000           60.560000               50.200000\n",
       "std     57.879185   13.969007           26.264721               25.823522\n",
       "min      1.000000   18.000000           15.000000                1.000000\n",
       "25%     50.750000   28.750000           41.500000               34.750000\n",
       "50%    100.500000   36.000000           61.500000               50.000000\n",
       "75%    150.250000   49.000000           78.000000               73.000000\n",
       "max    200.000000   70.000000          137.000000               99.000000"
      ]
     },
     "execution_count": 5,
     "metadata": {},
     "output_type": "execute_result"
    }
   ],
   "source": [
    "df.describe()"
   ]
  },
  {
   "cell_type": "code",
   "execution_count": 6,
   "id": "8354094f",
   "metadata": {
    "execution": {
     "iopub.execute_input": "2022-03-12T01:21:26.882276Z",
     "iopub.status.busy": "2022-03-12T01:21:26.881283Z",
     "iopub.status.idle": "2022-03-12T01:21:26.888667Z",
     "shell.execute_reply": "2022-03-12T01:21:26.888159Z",
     "shell.execute_reply.started": "2022-03-12T01:09:23.670791Z"
    },
    "papermill": {
     "duration": 0.044549,
     "end_time": "2022-03-12T01:21:26.888797",
     "exception": false,
     "start_time": "2022-03-12T01:21:26.844248",
     "status": "completed"
    },
    "tags": []
   },
   "outputs": [
    {
     "data": {
      "text/plain": [
       "CustomerID                 int64\n",
       "Gender                    object\n",
       "Age                        int64\n",
       "Annual Income (k$)         int64\n",
       "Spending Score (1-100)     int64\n",
       "dtype: object"
      ]
     },
     "execution_count": 6,
     "metadata": {},
     "output_type": "execute_result"
    }
   ],
   "source": [
    "df.dtypes"
   ]
  },
  {
   "cell_type": "code",
   "execution_count": 7,
   "id": "5f78c0dd",
   "metadata": {
    "execution": {
     "iopub.execute_input": "2022-03-12T01:21:26.959884Z",
     "iopub.status.busy": "2022-03-12T01:21:26.959220Z",
     "iopub.status.idle": "2022-03-12T01:21:27.157296Z",
     "shell.execute_reply": "2022-03-12T01:21:27.157790Z",
     "shell.execute_reply.started": "2022-03-12T01:09:23.679044Z"
    },
    "papermill": {
     "duration": 0.236591,
     "end_time": "2022-03-12T01:21:27.157989",
     "exception": false,
     "start_time": "2022-03-12T01:21:26.921398",
     "status": "completed"
    },
    "tags": []
   },
   "outputs": [
    {
     "data": {
      "text/plain": [
       "<matplotlib.collections.PathCollection at 0x7f11e43fea50>"
      ]
     },
     "execution_count": 7,
     "metadata": {},
     "output_type": "execute_result"
    },
    {
     "data": {
      "image/png": "[encoded data removed]",
      "text/plain": [
       "<Figure size 432x288 with 1 Axes>"
      ]
     },
     "metadata": {
      "needs_background": "light"
     },
     "output_type": "display_data"
    }
   ],
   "source": [
    "plt.scatter(df['Spending Score (1-100)'],df['Gender'],s=30,c=df['Age'],cmap='Greens')"
   ]
  },
  {
   "cell_type": "code",
   "execution_count": 8,
   "id": "fb8e093f",
   "metadata": {
    "execution": {
     "iopub.execute_input": "2022-03-12T01:21:27.232644Z",
     "iopub.status.busy": "2022-03-12T01:21:27.232027Z",
     "iopub.status.idle": "2022-03-12T01:21:27.394154Z",
     "shell.execute_reply": "2022-03-12T01:21:27.394596Z",
     "shell.execute_reply.started": "2022-03-12T01:09:23.813179Z"
    },
    "papermill": {
     "duration": 0.20241,
     "end_time": "2022-03-12T01:21:27.394773",
     "exception": false,
     "start_time": "2022-03-12T01:21:27.192363",
     "status": "completed"
    },
    "tags": []
   },
   "outputs": [
    {
     "data": {
      "text/plain": [
       "<matplotlib.collections.PathCollection at 0x7f11e22cfb50>"
      ]
     },
     "execution_count": 8,
     "metadata": {},
     "output_type": "execute_result"
    },
    {
     "data": {
      "image/png": "[encoded data removed]",
      "text/plain": [
       "<Figure size 432x288 with 1 Axes>"
      ]
     },
     "metadata": {
      "needs_background": "light"
     },
     "output_type": "display_data"
    }
   ],
   "source": [
    "plt.scatter(df['Spending Score (1-100)'],df['Gender'],s=30,c=df['Annual Income (k$)'],cmap='Greens')"
   ]
  },
  {
   "cell_type": "code",
   "execution_count": 9,
   "id": "a723cabe",
   "metadata": {
    "execution": {
     "iopub.execute_input": "2022-03-12T01:21:27.472916Z",
     "iopub.status.busy": "2022-03-12T01:21:27.472281Z",
     "iopub.status.idle": "2022-03-12T01:21:27.636907Z",
     "shell.execute_reply": "2022-03-12T01:21:27.636297Z",
     "shell.execute_reply.started": "2022-03-12T01:09:23.911102Z"
    },
    "papermill": {
     "duration": 0.206045,
     "end_time": "2022-03-12T01:21:27.637060",
     "exception": false,
     "start_time": "2022-03-12T01:21:27.431015",
     "status": "completed"
    },
    "tags": []
   },
   "outputs": [
    {
     "data": {
      "text/plain": [
       "<matplotlib.collections.PathCollection at 0x7f11e22dcb50>"
      ]
     },
     "execution_count": 9,
     "metadata": {},
     "output_type": "execute_result"
    },
    {
     "data": {
      "image/png": "[encoded data removed]",
      "text/plain": [
       "<Figure size 432x288 with 1 Axes>"
      ]
     },
     "metadata": {
      "needs_background": "light"
     },
     "output_type": "display_data"
    }
   ],
   "source": [
    "plt.scatter(df['Age'],df['Gender'],s=30,c=df['Spending Score (1-100)'],cmap='Greens')"
   ]
  },
  {
   "cell_type": "code",
   "execution_count": 10,
   "id": "bce37f90",
   "metadata": {
    "execution": {
     "iopub.execute_input": "2022-03-12T01:21:27.718734Z",
     "iopub.status.busy": "2022-03-12T01:21:27.715618Z",
     "iopub.status.idle": "2022-03-12T01:21:27.920886Z",
     "shell.execute_reply": "2022-03-12T01:21:27.920249Z",
     "shell.execute_reply.started": "2022-03-12T01:09:24.010259Z"
    },
    "papermill": {
     "duration": 0.246453,
     "end_time": "2022-03-12T01:21:27.921101",
     "exception": false,
     "start_time": "2022-03-12T01:21:27.674648",
     "status": "completed"
    },
    "tags": []
   },
   "outputs": [
    {
     "data": {
      "text/plain": [
       "<matplotlib.collections.PathCollection at 0x7f11e21ab150>"
      ]
     },
     "execution_count": 10,
     "metadata": {},
     "output_type": "execute_result"
    },
    {
     "data": {
      "image/png": "[encoded data removed]",
      "text/plain": [
       "<Figure size 432x288 with 1 Axes>"
      ]
     },
     "metadata": {
      "needs_background": "light"
     },
     "output_type": "display_data"
    }
   ],
   "source": [
    "plt.scatter(df['Spending Score (1-100)'],df['Age'],s=40,c=df['Annual Income (k$)'], cmap='Greens')"
   ]
  },
  {
   "cell_type": "markdown",
   "id": "abce268d",
   "metadata": {
    "papermill": {
     "duration": 0.038327,
     "end_time": "2022-03-12T01:21:28.000401",
     "exception": false,
     "start_time": "2022-03-12T01:21:27.962074",
     "status": "completed"
    },
    "tags": []
   },
   "source": [
    "20 - 40 age group are the only ones with the higher spending scores. The 20 - 40 age group who have scores of 40 - 60 would be a good group to target with marketing."
   ]
  },
  {
   "cell_type": "code",
   "execution_count": 11,
   "id": "7cb2c0a0",
   "metadata": {
    "execution": {
     "iopub.execute_input": "2022-03-12T01:21:28.105339Z",
     "iopub.status.busy": "2022-03-12T01:21:28.104417Z",
     "iopub.status.idle": "2022-03-12T01:21:28.291260Z",
     "shell.execute_reply": "2022-03-12T01:21:28.291748Z",
     "shell.execute_reply.started": "2022-03-12T01:09:24.133970Z"
    },
    "papermill": {
     "duration": 0.251458,
     "end_time": "2022-03-12T01:21:28.291913",
     "exception": false,
     "start_time": "2022-03-12T01:21:28.040455",
     "status": "completed"
    },
    "tags": []
   },
   "outputs": [
    {
     "data": {
      "text/plain": [
       "<matplotlib.collections.PathCollection at 0x7f11e21a5cd0>"
      ]
     },
     "execution_count": 11,
     "metadata": {},
     "output_type": "execute_result"
    },
    {
     "data": {
      "image/png": "[encoded data removed]",
      "text/plain": [
       "<Figure size 432x288 with 1 Axes>"
      ]
     },
     "metadata": {
      "needs_background": "light"
     },
     "output_type": "display_data"
    }
   ],
   "source": [
    "plt.scatter(df['Spending Score (1-100)'],df['Annual Income (k$)'],s=50,c=df['Age'],cmap='Greens')"
   ]
  },
  {
   "cell_type": "markdown",
   "id": "f1c7e413",
   "metadata": {
    "papermill": {
     "duration": 0.040621,
     "end_time": "2022-03-12T01:21:28.374280",
     "exception": false,
     "start_time": "2022-03-12T01:21:28.333659",
     "status": "completed"
    },
    "tags": []
   },
   "source": [
    "What is keeping people in the $40k - $60k income range so concentrated at that level?"
   ]
  },
  {
   "cell_type": "markdown",
   "id": "631772ce",
   "metadata": {
    "papermill": {
     "duration": 0.040576,
     "end_time": "2022-03-12T01:21:28.456047",
     "exception": false,
     "start_time": "2022-03-12T01:21:28.415471",
     "status": "completed"
    },
    "tags": []
   },
   "source": [
    "Following Code Borrowed from https://www.natasshaselvaraj.com/customer-segmentation-with-python/"
   ]
  },
  {
   "cell_type": "code",
   "execution_count": 12,
   "id": "a5a842dc",
   "metadata": {
    "execution": {
     "iopub.execute_input": "2022-03-12T01:21:28.540325Z",
     "iopub.status.busy": "2022-03-12T01:21:28.539681Z",
     "iopub.status.idle": "2022-03-12T01:21:28.552081Z",
     "shell.execute_reply": "2022-03-12T01:21:28.552669Z",
     "shell.execute_reply.started": "2022-03-12T01:09:24.263299Z"
    },
    "papermill": {
     "duration": 0.056273,
     "end_time": "2022-03-12T01:21:28.552835",
     "exception": false,
     "start_time": "2022-03-12T01:21:28.496562",
     "status": "completed"
    },
    "tags": []
   },
   "outputs": [
    {
     "data": {
      "text/html": [
       "<div>\n",
       "<style scoped>\n",
       "    .dataframe tbody tr th:only-of-type {\n",
       "        vertical-align: middle;\n",
       "    }\n",
       "\n",
       "    .dataframe tbody tr th {\n",
       "        vertical-align: top;\n",
       "    }\n",
       "\n",
       "    .dataframe thead th {\n",
       "        text-align: right;\n",
       "    }\n",
       "</style>\n",
       "<table border=\"1\" class=\"dataframe\">\n",
       "  <thead>\n",
       "    <tr style=\"text-align: right;\">\n",
       "      <th></th>\n",
       "      <th>Annual Income (k$)</th>\n",
       "      <th>Age</th>\n",
       "      <th>Spending Score (1-100)</th>\n",
       "    </tr>\n",
       "  </thead>\n",
       "  <tbody>\n",
       "    <tr>\n",
       "      <th>0</th>\n",
       "      <td>-1.738999</td>\n",
       "      <td>-1.424569</td>\n",
       "      <td>-0.434801</td>\n",
       "    </tr>\n",
       "    <tr>\n",
       "      <th>1</th>\n",
       "      <td>-1.738999</td>\n",
       "      <td>-1.281035</td>\n",
       "      <td>1.195704</td>\n",
       "    </tr>\n",
       "    <tr>\n",
       "      <th>2</th>\n",
       "      <td>-1.700830</td>\n",
       "      <td>-1.352802</td>\n",
       "      <td>-1.715913</td>\n",
       "    </tr>\n",
       "    <tr>\n",
       "      <th>3</th>\n",
       "      <td>-1.700830</td>\n",
       "      <td>-1.137502</td>\n",
       "      <td>1.040418</td>\n",
       "    </tr>\n",
       "    <tr>\n",
       "      <th>4</th>\n",
       "      <td>-1.662660</td>\n",
       "      <td>-0.563369</td>\n",
       "      <td>-0.395980</td>\n",
       "    </tr>\n",
       "  </tbody>\n",
       "</table>\n",
       "</div>"
      ],
      "text/plain": [
       "   Annual Income (k$)       Age  Spending Score (1-100)\n",
       "0           -1.738999 -1.424569               -0.434801\n",
       "1           -1.738999 -1.281035                1.195704\n",
       "2           -1.700830 -1.352802               -1.715913\n",
       "3           -1.700830 -1.137502                1.040418\n",
       "4           -1.662660 -0.563369               -0.395980"
      ]
     },
     "execution_count": 12,
     "metadata": {},
     "output_type": "execute_result"
    }
   ],
   "source": [
    "col_names = ['Annual Income (k$)', 'Age', 'Spending Score (1-100)']\n",
    "features = df[col_names]\n",
    "scaler = StandardScaler().fit(features.values)\n",
    "features = scaler.transform(features.values)\n",
    "scaled_features = pd.DataFrame(features, columns = col_names)\n",
    "scaled_features.head()"
   ]
  },
  {
   "cell_type": "code",
   "execution_count": 13,
   "id": "529951fd",
   "metadata": {
    "execution": {
     "iopub.execute_input": "2022-03-12T01:21:28.639113Z",
     "iopub.status.busy": "2022-03-12T01:21:28.638161Z",
     "iopub.status.idle": "2022-03-12T01:21:28.659011Z",
     "shell.execute_reply": "2022-03-12T01:21:28.659460Z",
     "shell.execute_reply.started": "2022-03-12T01:09:24.275999Z"
    },
    "papermill": {
     "duration": 0.065315,
     "end_time": "2022-03-12T01:21:28.659627",
     "exception": false,
     "start_time": "2022-03-12T01:21:28.594312",
     "status": "completed"
    },
    "tags": []
   },
   "outputs": [
    {
     "data": {
      "text/html": [
       "<div>\n",
       "<style scoped>\n",
       "    .dataframe tbody tr th:only-of-type {\n",
       "        vertical-align: middle;\n",
       "    }\n",
       "\n",
       "    .dataframe tbody tr th {\n",
       "        vertical-align: top;\n",
       "    }\n",
       "\n",
       "    .dataframe thead th {\n",
       "        text-align: right;\n",
       "    }\n",
       "</style>\n",
       "<table border=\"1\" class=\"dataframe\">\n",
       "  <thead>\n",
       "    <tr style=\"text-align: right;\">\n",
       "      <th></th>\n",
       "      <th>Annual Income (k$)</th>\n",
       "      <th>Age</th>\n",
       "      <th>Spending Score (1-100)</th>\n",
       "      <th>Gender_Female</th>\n",
       "    </tr>\n",
       "  </thead>\n",
       "  <tbody>\n",
       "    <tr>\n",
       "      <th>0</th>\n",
       "      <td>-1.738999</td>\n",
       "      <td>-1.424569</td>\n",
       "      <td>-0.434801</td>\n",
       "      <td>0</td>\n",
       "    </tr>\n",
       "    <tr>\n",
       "      <th>1</th>\n",
       "      <td>-1.738999</td>\n",
       "      <td>-1.281035</td>\n",
       "      <td>1.195704</td>\n",
       "      <td>0</td>\n",
       "    </tr>\n",
       "    <tr>\n",
       "      <th>2</th>\n",
       "      <td>-1.700830</td>\n",
       "      <td>-1.352802</td>\n",
       "      <td>-1.715913</td>\n",
       "      <td>1</td>\n",
       "    </tr>\n",
       "    <tr>\n",
       "      <th>3</th>\n",
       "      <td>-1.700830</td>\n",
       "      <td>-1.137502</td>\n",
       "      <td>1.040418</td>\n",
       "      <td>1</td>\n",
       "    </tr>\n",
       "    <tr>\n",
       "      <th>4</th>\n",
       "      <td>-1.662660</td>\n",
       "      <td>-0.563369</td>\n",
       "      <td>-0.395980</td>\n",
       "      <td>1</td>\n",
       "    </tr>\n",
       "  </tbody>\n",
       "</table>\n",
       "</div>"
      ],
      "text/plain": [
       "   Annual Income (k$)       Age  Spending Score (1-100)  Gender_Female\n",
       "0           -1.738999 -1.424569               -0.434801              0\n",
       "1           -1.738999 -1.281035                1.195704              0\n",
       "2           -1.700830 -1.352802               -1.715913              1\n",
       "3           -1.700830 -1.137502                1.040418              1\n",
       "4           -1.662660 -0.563369               -0.395980              1"
      ]
     },
     "execution_count": 13,
     "metadata": {},
     "output_type": "execute_result"
    }
   ],
   "source": [
    "gender = df['Gender']\n",
    "newdf = scaled_features.join(gender)\n",
    "\n",
    "newdf = pd.get_dummies(newdf, prefix=None, prefix_sep='_', dummy_na=False, columns=None, sparse=False, drop_first=False, dtype=None)\n",
    "\n",
    "newdf = newdf.drop(['Gender_Male'],axis=1)\n",
    "\n",
    "newdf.head()"
   ]
  },
  {
   "cell_type": "code",
   "execution_count": 14,
   "id": "d4b3b3fa",
   "metadata": {
    "execution": {
     "iopub.execute_input": "2022-03-12T01:21:28.746152Z",
     "iopub.status.busy": "2022-03-12T01:21:28.745539Z",
     "iopub.status.idle": "2022-03-12T01:21:29.612676Z",
     "shell.execute_reply": "2022-03-12T01:21:29.613320Z",
     "shell.execute_reply.started": "2022-03-12T01:09:24.304371Z"
    },
    "papermill": {
     "duration": 0.912259,
     "end_time": "2022-03-12T01:21:29.613495",
     "exception": false,
     "start_time": "2022-03-12T01:21:28.701236",
     "status": "completed"
    },
    "tags": []
   },
   "outputs": [
    {
     "data": {
      "text/plain": [
       "Text(0, 0.5, 'Inertia')"
      ]
     },
     "execution_count": 14,
     "metadata": {},
     "output_type": "execute_result"
    },
    {
     "data": {
      "image/png": "[encoded data removed]",
      "text/plain": [
       "<Figure size 864x432 with 1 Axes>"
      ]
     },
     "metadata": {
      "needs_background": "light"
     },
     "output_type": "display_data"
    }
   ],
   "source": [
    "SSE = []\n",
    "\n",
    "for cluster in range(1,10):\n",
    "    kmeans = KMeans(n_clusters = cluster, init='k-means++')\n",
    "    kmeans.fit(newdf)\n",
    "    SSE.append(kmeans.inertia_)\n",
    "\n",
    "# converting the results into a dataframe and plotting them\n",
    "\n",
    "frame = pd.DataFrame({'Cluster':range(1,10), 'SSE':SSE})\n",
    "plt.figure(figsize=(12,6))\n",
    "plt.plot(frame['Cluster'], frame['SSE'], marker='o')\n",
    "plt.xlabel('Number of clusters')\n",
    "plt.ylabel('Inertia')"
   ]
  },
  {
   "cell_type": "code",
   "execution_count": 15,
   "id": "72c16d95",
   "metadata": {
    "execution": {
     "iopub.execute_input": "2022-03-12T01:21:29.703048Z",
     "iopub.status.busy": "2022-03-12T01:21:29.702421Z",
     "iopub.status.idle": "2022-03-12T01:21:29.766557Z",
     "shell.execute_reply": "2022-03-12T01:21:29.767591Z",
     "shell.execute_reply.started": "2022-03-12T01:09:24.903953Z"
    },
    "papermill": {
     "duration": 0.111038,
     "end_time": "2022-03-12T01:21:29.767857",
     "exception": false,
     "start_time": "2022-03-12T01:21:29.656819",
     "status": "completed"
    },
    "tags": []
   },
   "outputs": [
    {
     "name": "stdout",
     "output_type": "stream",
     "text": [
      "0.35027020434653977\n"
     ]
    }
   ],
   "source": [
    "# First, build a model with 4 clusters\n",
    "\n",
    "kmeans = KMeans(n_clusters = 4, init='k-means++')\n",
    "kmeans.fit(newdf)\n",
    "\n",
    "# Now, print the silhouette score of this model.\n",
    "#A silhouette coefficient, or a silhouette score is a metric used to evaluate the quality of clusters created by the algorithm.\n",
    "#Silhouette scores range from -1 to +1. The higher the silhouette score, the better the model.\n",
    "\n",
    "print(silhouette_score(newdf, kmeans.labels_, metric='euclidean'))"
   ]
  },
  {
   "cell_type": "markdown",
   "id": "eded6be8",
   "metadata": {
    "execution": {
     "iopub.execute_input": "2022-03-11T21:51:33.564428Z",
     "iopub.status.busy": "2022-03-11T21:51:33.563661Z",
     "iopub.status.idle": "2022-03-11T21:51:33.607817Z",
     "shell.execute_reply": "2022-03-11T21:51:33.606995Z",
     "shell.execute_reply.started": "2022-03-11T21:51:33.564387Z"
    },
    "papermill": {
     "duration": 0.055572,
     "end_time": "2022-03-12T01:21:29.903002",
     "exception": false,
     "start_time": "2022-03-12T01:21:29.847430",
     "status": "completed"
    },
    "tags": []
   },
   "source": [
    "#visualize the dataset to see how well the clusters are performing\n",
    "\n",
    "clusters = kmeans.fit_predict(df.iloc[:,1:])\n",
    "newdf[\"label\"] = clusters\n",
    " \n",
    "fig = plt.figure(figsize=(21,10))\n",
    "ax = fig.add_subplot(111, projection='3d')\n",
    "ax.scatter(newdf.Age[newdf.label == 0], newdf[\"Annual Income (k$)\"][newdf.label == 0], df[\"Spending Score (1-100)\"][newdf.label == 0], c='blue', s=60)\n",
    "\n",
    "ax.scatter(newdf.Age[df.label == 1], newdf[\"Annual Income (k$)\"][newdf.label == 1], newdf[\"Spending Score (1-100)\"][newdf.label == 1], c='red', s=60)\n",
    "ax.scatter(newdf.Age[df.label == 2], newdf[\"Annual Income (k$)\"][newdf.label == 2], df[\"Spending Score (1-100)\"][newdf.label == 2], c='green', s=60)\n",
    "ax.scatter(newdf.Age[newdf.label == 3], newdf[\"Annual Income (k$)\"][newdf.label == 3], newdf[\"Spending Score (1-100)\"][newdf.label == 3], c='orange', s=60)\n",
    "\n",
    "ax.view_init(30, 185)\n",
    "plt.show()"
   ]
  },
  {
   "cell_type": "code",
   "execution_count": 16,
   "id": "777e9c16",
   "metadata": {
    "execution": {
     "iopub.execute_input": "2022-03-12T01:21:29.999417Z",
     "iopub.status.busy": "2022-03-12T01:21:29.998749Z",
     "iopub.status.idle": "2022-03-12T01:21:30.205760Z",
     "shell.execute_reply": "2022-03-12T01:21:30.205131Z",
     "shell.execute_reply.started": "2022-03-12T01:09:24.951197Z"
    },
    "papermill": {
     "duration": 0.258534,
     "end_time": "2022-03-12T01:21:30.205896",
     "exception": false,
     "start_time": "2022-03-12T01:21:29.947362",
     "status": "completed"
    },
    "tags": []
   },
   "outputs": [
    {
     "data": {
      "image/png": "[encoded data removed]",
      "text/plain": [
       "<Figure size 432x288 with 1 Axes>"
      ]
     },
     "metadata": {
      "needs_background": "light"
     },
     "output_type": "display_data"
    }
   ],
   "source": [
    "#We can use a technique called Principal Component Analysis (PCA).\n",
    "\n",
    "#PCA is a technique that helps us reduce the dimension of a dataset. When we run PCA on a data frame, new components are created.\n",
    "#These components explain the maximum variance in the model.\n",
    "\n",
    "pca = PCA(n_components=4)\n",
    "principalComponents = pca.fit_transform(newdf)\n",
    "\n",
    "features = range(pca.n_components_)\n",
    "plt.bar(features, pca.explained_variance_ratio_, color='black')\n",
    "plt.xlabel('PCA features')\n",
    "plt.ylabel('variance %')\n",
    "plt.xticks(features)\n",
    "\n",
    "PCA_components = pd.DataFrame(principalComponents)"
   ]
  },
  {
   "cell_type": "code",
   "execution_count": 17,
   "id": "959fd7bc",
   "metadata": {
    "execution": {
     "iopub.execute_input": "2022-03-12T01:21:30.298141Z",
     "iopub.status.busy": "2022-03-12T01:21:30.297537Z",
     "iopub.status.idle": "2022-03-12T01:21:30.951036Z",
     "shell.execute_reply": "2022-03-12T01:21:30.951857Z",
     "shell.execute_reply.started": "2022-03-12T01:09:25.104486Z"
    },
    "papermill": {
     "duration": 0.701474,
     "end_time": "2022-03-12T01:21:30.952066",
     "exception": false,
     "start_time": "2022-03-12T01:21:30.250592",
     "status": "completed"
    },
    "tags": []
   },
   "outputs": [
    {
     "data": {
      "image/png": "[encoded data removed]",
      "text/plain": [
       "<Figure size 432x288 with 1 Axes>"
      ]
     },
     "metadata": {
      "needs_background": "light"
     },
     "output_type": "display_data"
    }
   ],
   "source": [
    "#decide on the number of clusters to use:\n",
    "\n",
    "ks = range(1, 10)\n",
    "inertias = []\n",
    "\n",
    "for k in ks:\n",
    "    model = KMeans(n_clusters=k)\n",
    "    model.fit(PCA_components.iloc[:,:2])\n",
    "    inertias.append(model.inertia_)\n",
    "\n",
    "plt.plot(ks, inertias, '-o', color='black')\n",
    "plt.xlabel('number of clusters, k')\n",
    "plt.ylabel('inertia')\n",
    "plt.xticks(ks)\n",
    "plt.show()"
   ]
  },
  {
   "cell_type": "code",
   "execution_count": 18,
   "id": "c74719b0",
   "metadata": {
    "execution": {
     "iopub.execute_input": "2022-03-12T01:21:31.047862Z",
     "iopub.status.busy": "2022-03-12T01:21:31.046856Z",
     "iopub.status.idle": "2022-03-12T01:21:31.089507Z",
     "shell.execute_reply": "2022-03-12T01:21:31.090089Z",
     "shell.execute_reply.started": "2022-03-12T01:09:25.841109Z"
    },
    "papermill": {
     "duration": 0.09224,
     "end_time": "2022-03-12T01:21:31.090284",
     "exception": false,
     "start_time": "2022-03-12T01:21:30.998044",
     "status": "completed"
    },
    "tags": []
   },
   "outputs": [
    {
     "name": "stdout",
     "output_type": "stream",
     "text": [
      "0.42177622653948804\n"
     ]
    }
   ],
   "source": [
    "model = KMeans(n_clusters=4)\n",
    "model.fit(PCA_components.iloc[:,:2])\n",
    "\n",
    "# silhouette score\n",
    "print(silhouette_score(PCA_components.iloc[:,:2], model.labels_, metric='euclidean')) "
   ]
  },
  {
   "cell_type": "code",
   "execution_count": 19,
   "id": "ff387201",
   "metadata": {
    "execution": {
     "iopub.execute_input": "2022-03-12T01:21:31.235560Z",
     "iopub.status.busy": "2022-03-12T01:21:31.234892Z",
     "iopub.status.idle": "2022-03-12T01:21:31.513469Z",
     "shell.execute_reply": "2022-03-12T01:21:31.513972Z",
     "shell.execute_reply.started": "2022-03-12T01:09:25.896942Z"
    },
    "papermill": {
     "duration": 0.360848,
     "end_time": "2022-03-12T01:21:31.514141",
     "exception": false,
     "start_time": "2022-03-12T01:21:31.153293",
     "status": "completed"
    },
    "tags": []
   },
   "outputs": [
    {
     "data": {
      "image/png": "[encoded data removed]",
      "text/plain": [
       "<Figure size 1512x720 with 1 Axes>"
      ]
     },
     "metadata": {
      "needs_background": "light"
     },
     "output_type": "display_data"
    }
   ],
   "source": [
    "#visualize the new model\n",
    "\n",
    "model = KMeans(n_clusters=4)\n",
    "\n",
    "clusters = model.fit_predict(PCA_components.iloc[:,:2])\n",
    "newdf[\"label\"] = clusters\n",
    " \n",
    "fig = plt.figure(figsize=(21,10))\n",
    "ax = fig.add_subplot(111, projection='3d')\n",
    "ax.scatter(newdf.Age[newdf.label == 0], newdf[\"Annual Income (k$)\"][newdf.label == 0], newdf[\"Spending Score (1-100)\"][newdf.label == 0], c='blue', s=60)\n",
    "ax.scatter(newdf.Age[newdf.label == 1], newdf[\"Annual Income (k$)\"][newdf.label == 1], newdf[\"Spending Score (1-100)\"][newdf.label == 1], c='red', s=60)\n",
    "ax.scatter(newdf.Age[newdf.label == 2], newdf[\"Annual Income (k$)\"][newdf.label == 2], newdf[\"Spending Score (1-100)\"][newdf.label == 2], c='green', s=60)\n",
    "\n",
    "ax.scatter(newdf.Age[newdf.label == 3], newdf[\"Annual Income (k$)\"][newdf.label == 3], newdf[\"Spending Score (1-100)\"][newdf.label == 3], c='orange', s=60)\n",
    "\n",
    "ax.view_init(30, 185)\n",
    "plt.show()"
   ]
  },
  {
   "cell_type": "code",
   "execution_count": 20,
   "id": "6f3b195b",
   "metadata": {
    "execution": {
     "iopub.execute_input": "2022-03-12T01:21:31.614628Z",
     "iopub.status.busy": "2022-03-12T01:21:31.613638Z",
     "iopub.status.idle": "2022-03-12T01:21:31.644010Z",
     "shell.execute_reply": "2022-03-12T01:21:31.645115Z",
     "shell.execute_reply.started": "2022-03-12T01:09:26.247858Z"
    },
    "papermill": {
     "duration": 0.082696,
     "end_time": "2022-03-12T01:21:31.645311",
     "exception": false,
     "start_time": "2022-03-12T01:21:31.562615",
     "status": "completed"
    },
    "tags": []
   },
   "outputs": [
    {
     "data": {
      "text/html": [
       "<div>\n",
       "<style scoped>\n",
       "    .dataframe tbody tr th:only-of-type {\n",
       "        vertical-align: middle;\n",
       "    }\n",
       "\n",
       "    .dataframe tbody tr th {\n",
       "        vertical-align: top;\n",
       "    }\n",
       "\n",
       "    .dataframe thead th {\n",
       "        text-align: right;\n",
       "    }\n",
       "</style>\n",
       "<table border=\"1\" class=\"dataframe\">\n",
       "  <thead>\n",
       "    <tr style=\"text-align: right;\">\n",
       "      <th></th>\n",
       "      <th>Gender</th>\n",
       "      <th>Age</th>\n",
       "      <th>Annual Income (k$)</th>\n",
       "      <th>Spending Score (1-100)</th>\n",
       "      <th>cluster</th>\n",
       "    </tr>\n",
       "  </thead>\n",
       "  <tbody>\n",
       "    <tr>\n",
       "      <th>0</th>\n",
       "      <td>Male</td>\n",
       "      <td>19</td>\n",
       "      <td>15</td>\n",
       "      <td>39</td>\n",
       "      <td>0</td>\n",
       "    </tr>\n",
       "    <tr>\n",
       "      <th>1</th>\n",
       "      <td>Male</td>\n",
       "      <td>21</td>\n",
       "      <td>15</td>\n",
       "      <td>81</td>\n",
       "      <td>0</td>\n",
       "    </tr>\n",
       "    <tr>\n",
       "      <th>2</th>\n",
       "      <td>Female</td>\n",
       "      <td>20</td>\n",
       "      <td>16</td>\n",
       "      <td>6</td>\n",
       "      <td>1</td>\n",
       "    </tr>\n",
       "    <tr>\n",
       "      <th>3</th>\n",
       "      <td>Female</td>\n",
       "      <td>23</td>\n",
       "      <td>16</td>\n",
       "      <td>77</td>\n",
       "      <td>0</td>\n",
       "    </tr>\n",
       "    <tr>\n",
       "      <th>4</th>\n",
       "      <td>Female</td>\n",
       "      <td>31</td>\n",
       "      <td>17</td>\n",
       "      <td>40</td>\n",
       "      <td>0</td>\n",
       "    </tr>\n",
       "  </tbody>\n",
       "</table>\n",
       "</div>"
      ],
      "text/plain": [
       "   Gender  Age  Annual Income (k$)  Spending Score (1-100)  cluster\n",
       "0    Male   19                  15                      39        0\n",
       "1    Male   21                  15                      81        0\n",
       "2  Female   20                  16                       6        1\n",
       "3  Female   23                  16                      77        0\n",
       "4  Female   31                  17                      40        0"
      ]
     },
     "execution_count": 20,
     "metadata": {},
     "output_type": "execute_result"
    }
   ],
   "source": [
    "#map clusters to the dataset\n",
    "df = pd.read_csv('/kaggle/input/customer-segmentation-tutorial-in-python/Mall_Customers.csv')\n",
    "df = df.drop(['CustomerID'],axis=1)\n",
    "\n",
    "# map back clusters to dataframe\n",
    "\n",
    "pred = model.predict(PCA_components.iloc[:,:2])\n",
    "frame = pd.DataFrame(df)\n",
    "frame['cluster'] = pred\n",
    "frame.head()"
   ]
  },
  {
   "cell_type": "code",
   "execution_count": 21,
   "id": "053447a4",
   "metadata": {
    "execution": {
     "iopub.execute_input": "2022-03-12T01:21:31.747635Z",
     "iopub.status.busy": "2022-03-12T01:21:31.746633Z",
     "iopub.status.idle": "2022-03-12T01:21:31.761888Z",
     "shell.execute_reply": "2022-03-12T01:21:31.762412Z",
     "shell.execute_reply.started": "2022-03-12T01:09:26.270500Z"
    },
    "papermill": {
     "duration": 0.06781,
     "end_time": "2022-03-12T01:21:31.762578",
     "exception": false,
     "start_time": "2022-03-12T01:21:31.694768",
     "status": "completed"
    },
    "tags": []
   },
   "outputs": [
    {
     "data": {
      "text/html": [
       "<div>\n",
       "<style scoped>\n",
       "    .dataframe tbody tr th:only-of-type {\n",
       "        vertical-align: middle;\n",
       "    }\n",
       "\n",
       "    .dataframe tbody tr th {\n",
       "        vertical-align: top;\n",
       "    }\n",
       "\n",
       "    .dataframe thead th {\n",
       "        text-align: right;\n",
       "    }\n",
       "</style>\n",
       "<table border=\"1\" class=\"dataframe\">\n",
       "  <thead>\n",
       "    <tr style=\"text-align: right;\">\n",
       "      <th></th>\n",
       "      <th>cluster</th>\n",
       "      <th>Age</th>\n",
       "      <th>Annual Income (k$)</th>\n",
       "      <th>Spending Score (1-100)</th>\n",
       "    </tr>\n",
       "  </thead>\n",
       "  <tbody>\n",
       "    <tr>\n",
       "      <th>0</th>\n",
       "      <td>0</td>\n",
       "      <td>25.605263</td>\n",
       "      <td>32.631579</td>\n",
       "      <td>67.500000</td>\n",
       "    </tr>\n",
       "    <tr>\n",
       "      <th>1</th>\n",
       "      <td>1</td>\n",
       "      <td>52.144928</td>\n",
       "      <td>46.333333</td>\n",
       "      <td>40.072464</td>\n",
       "    </tr>\n",
       "    <tr>\n",
       "      <th>2</th>\n",
       "      <td>2</td>\n",
       "      <td>41.685714</td>\n",
       "      <td>88.228571</td>\n",
       "      <td>17.285714</td>\n",
       "    </tr>\n",
       "    <tr>\n",
       "      <th>3</th>\n",
       "      <td>3</td>\n",
       "      <td>30.000000</td>\n",
       "      <td>79.086207</td>\n",
       "      <td>70.775862</td>\n",
       "    </tr>\n",
       "  </tbody>\n",
       "</table>\n",
       "</div>"
      ],
      "text/plain": [
       "   cluster        Age  Annual Income (k$)  Spending Score (1-100)\n",
       "0        0  25.605263           32.631579               67.500000\n",
       "1        1  52.144928           46.333333               40.072464\n",
       "2        2  41.685714           88.228571               17.285714\n",
       "3        3  30.000000           79.086207               70.775862"
      ]
     },
     "execution_count": 21,
     "metadata": {},
     "output_type": "execute_result"
    }
   ],
   "source": [
    "avg_df = frame.groupby(['cluster'], as_index=False).mean()\n",
    "avg_df"
   ]
  },
  {
   "cell_type": "code",
   "execution_count": 22,
   "id": "ec845864",
   "metadata": {
    "execution": {
     "iopub.execute_input": "2022-03-12T01:21:31.867137Z",
     "iopub.status.busy": "2022-03-12T01:21:31.866145Z",
     "iopub.status.idle": "2022-03-12T01:21:32.149626Z",
     "shell.execute_reply": "2022-03-12T01:21:32.150351Z",
     "shell.execute_reply.started": "2022-03-12T01:09:26.284137Z"
    },
    "papermill": {
     "duration": 0.337656,
     "end_time": "2022-03-12T01:21:32.150529",
     "exception": false,
     "start_time": "2022-03-12T01:21:31.812873",
     "status": "completed"
    },
    "tags": []
   },
   "outputs": [
    {
     "data": {
      "text/plain": [
       "<AxesSubplot:xlabel='cluster', ylabel='Age'>"
      ]
     },
     "execution_count": 22,
     "metadata": {},
     "output_type": "execute_result"
    },
    {
     "data": {
      "image/png": "[encoded data removed]",
      "text/plain": [
       "<Figure size 432x288 with 1 Axes>"
      ]
     },
     "metadata": {
      "needs_background": "light"
     },
     "output_type": "display_data"
    }
   ],
   "source": [
    "sns.barplot(x='cluster',y='Age',data=avg_df)"
   ]
  },
  {
   "cell_type": "code",
   "execution_count": 23,
   "id": "a054c187",
   "metadata": {
    "execution": {
     "iopub.execute_input": "2022-03-12T01:21:32.256718Z",
     "iopub.status.busy": "2022-03-12T01:21:32.255701Z",
     "iopub.status.idle": "2022-03-12T01:21:32.402083Z",
     "shell.execute_reply": "2022-03-12T01:21:32.402683Z",
     "shell.execute_reply.started": "2022-03-12T01:09:26.638584Z"
    },
    "papermill": {
     "duration": 0.200726,
     "end_time": "2022-03-12T01:21:32.402852",
     "exception": false,
     "start_time": "2022-03-12T01:21:32.202126",
     "status": "completed"
    },
    "tags": []
   },
   "outputs": [
    {
     "data": {
      "text/plain": [
       "<AxesSubplot:xlabel='cluster', ylabel='Spending Score (1-100)'>"
      ]
     },
     "execution_count": 23,
     "metadata": {},
     "output_type": "execute_result"
    },
    {
     "data": {
      "image/png": "[encoded data removed]",
      "text/plain": [
       "<Figure size 432x288 with 1 Axes>"
      ]
     },
     "metadata": {
      "needs_background": "light"
     },
     "output_type": "display_data"
    }
   ],
   "source": [
    "sns.barplot(x='cluster',y='Spending Score (1-100)',data=avg_df)"
   ]
  },
  {
   "cell_type": "code",
   "execution_count": 24,
   "id": "a01293c6",
   "metadata": {
    "execution": {
     "iopub.execute_input": "2022-03-12T01:21:32.535155Z",
     "iopub.status.busy": "2022-03-12T01:21:32.534152Z",
     "iopub.status.idle": "2022-03-12T01:21:32.698849Z",
     "shell.execute_reply": "2022-03-12T01:21:32.699487Z",
     "shell.execute_reply.started": "2022-03-12T01:09:26.781029Z"
    },
    "papermill": {
     "duration": 0.244204,
     "end_time": "2022-03-12T01:21:32.699652",
     "exception": false,
     "start_time": "2022-03-12T01:21:32.455448",
     "status": "completed"
    },
    "tags": []
   },
   "outputs": [
    {
     "data": {
      "text/plain": [
       "<AxesSubplot:xlabel='cluster', ylabel='Annual Income (k$)'>"
      ]
     },
     "execution_count": 24,
     "metadata": {},
     "output_type": "execute_result"
    },
    {
     "data": {
      "image/png": "[encoded data removed]",
      "text/plain": [
       "<Figure size 432x288 with 1 Axes>"
      ]
     },
     "metadata": {
      "needs_background": "light"
     },
     "output_type": "display_data"
    }
   ],
   "source": [
    "sns.barplot(x='cluster',y='Annual Income (k$)',data=avg_df)"
   ]
  },
  {
   "cell_type": "code",
   "execution_count": 25,
   "id": "a455a074",
   "metadata": {
    "execution": {
     "iopub.execute_input": "2022-03-12T01:21:32.820190Z",
     "iopub.status.busy": "2022-03-12T01:21:32.819511Z",
     "iopub.status.idle": "2022-03-12T01:21:32.822921Z",
     "shell.execute_reply": "2022-03-12T01:21:32.823389Z",
     "shell.execute_reply.started": "2022-03-12T01:12:36.031526Z"
    },
    "papermill": {
     "duration": 0.070103,
     "end_time": "2022-03-12T01:21:32.823558",
     "exception": false,
     "start_time": "2022-03-12T01:21:32.753455",
     "status": "completed"
    },
    "tags": []
   },
   "outputs": [
    {
     "data": {
      "text/html": [
       "<div>\n",
       "<style scoped>\n",
       "    .dataframe tbody tr th:only-of-type {\n",
       "        vertical-align: middle;\n",
       "    }\n",
       "\n",
       "    .dataframe tbody tr th {\n",
       "        vertical-align: top;\n",
       "    }\n",
       "\n",
       "    .dataframe thead th {\n",
       "        text-align: right;\n",
       "    }\n",
       "</style>\n",
       "<table border=\"1\" class=\"dataframe\">\n",
       "  <thead>\n",
       "    <tr style=\"text-align: right;\">\n",
       "      <th></th>\n",
       "      <th></th>\n",
       "      <th>Gender</th>\n",
       "    </tr>\n",
       "    <tr>\n",
       "      <th>cluster</th>\n",
       "      <th>Gender</th>\n",
       "      <th></th>\n",
       "    </tr>\n",
       "  </thead>\n",
       "  <tbody>\n",
       "    <tr>\n",
       "      <th rowspan=\"2\" valign=\"top\">0</th>\n",
       "      <th>Female</th>\n",
       "      <td>23</td>\n",
       "    </tr>\n",
       "    <tr>\n",
       "      <th>Male</th>\n",
       "      <td>15</td>\n",
       "    </tr>\n",
       "    <tr>\n",
       "      <th rowspan=\"2\" valign=\"top\">1</th>\n",
       "      <th>Female</th>\n",
       "      <td>40</td>\n",
       "    </tr>\n",
       "    <tr>\n",
       "      <th>Male</th>\n",
       "      <td>29</td>\n",
       "    </tr>\n",
       "    <tr>\n",
       "      <th rowspan=\"2\" valign=\"top\">2</th>\n",
       "      <th>Female</th>\n",
       "      <td>15</td>\n",
       "    </tr>\n",
       "    <tr>\n",
       "      <th>Male</th>\n",
       "      <td>20</td>\n",
       "    </tr>\n",
       "    <tr>\n",
       "      <th rowspan=\"2\" valign=\"top\">3</th>\n",
       "      <th>Female</th>\n",
       "      <td>34</td>\n",
       "    </tr>\n",
       "    <tr>\n",
       "      <th>Male</th>\n",
       "      <td>24</td>\n",
       "    </tr>\n",
       "  </tbody>\n",
       "</table>\n",
       "</div>"
      ],
      "text/plain": [
       "                Gender\n",
       "cluster Gender        \n",
       "0       Female      23\n",
       "        Male        15\n",
       "1       Female      40\n",
       "        Male        29\n",
       "2       Female      15\n",
       "        Male        20\n",
       "3       Female      34\n",
       "        Male        24"
      ]
     },
     "execution_count": 25,
     "metadata": {},
     "output_type": "execute_result"
    }
   ],
   "source": [
    "df2 = pd.DataFrame(frame.groupby(['cluster','Gender'])['Gender'].count())\n",
    "df2"
   ]
  },
  {
   "cell_type": "code",
   "execution_count": 26,
   "id": "19d85afb",
   "metadata": {
    "execution": {
     "iopub.execute_input": "2022-03-12T01:21:32.934265Z",
     "iopub.status.busy": "2022-03-12T01:21:32.933576Z",
     "iopub.status.idle": "2022-03-12T01:21:32.949441Z",
     "shell.execute_reply": "2022-03-12T01:21:32.950093Z",
     "shell.execute_reply.started": "2022-03-12T01:14:22.911853Z"
    },
    "papermill": {
     "duration": 0.073091,
     "end_time": "2022-03-12T01:21:32.950291",
     "exception": false,
     "start_time": "2022-03-12T01:21:32.877200",
     "status": "completed"
    },
    "tags": []
   },
   "outputs": [
    {
     "data": {
      "text/html": [
       "<div>\n",
       "<style scoped>\n",
       "    .dataframe tbody tr th:only-of-type {\n",
       "        vertical-align: middle;\n",
       "    }\n",
       "\n",
       "    .dataframe tbody tr th {\n",
       "        vertical-align: top;\n",
       "    }\n",
       "\n",
       "    .dataframe thead th {\n",
       "        text-align: right;\n",
       "    }\n",
       "</style>\n",
       "<table border=\"1\" class=\"dataframe\">\n",
       "  <thead>\n",
       "    <tr style=\"text-align: right;\">\n",
       "      <th></th>\n",
       "      <th>cluster</th>\n",
       "      <th>Age</th>\n",
       "      <th>Annual Income (k$)</th>\n",
       "      <th>Spending Score (1-100)</th>\n",
       "    </tr>\n",
       "  </thead>\n",
       "  <tbody>\n",
       "    <tr>\n",
       "      <th>0</th>\n",
       "      <td>0</td>\n",
       "      <td>24.0</td>\n",
       "      <td>33.0</td>\n",
       "      <td>69.0</td>\n",
       "    </tr>\n",
       "    <tr>\n",
       "      <th>1</th>\n",
       "      <td>1</td>\n",
       "      <td>50.0</td>\n",
       "      <td>48.0</td>\n",
       "      <td>46.0</td>\n",
       "    </tr>\n",
       "    <tr>\n",
       "      <th>2</th>\n",
       "      <td>2</td>\n",
       "      <td>43.0</td>\n",
       "      <td>85.0</td>\n",
       "      <td>16.0</td>\n",
       "    </tr>\n",
       "    <tr>\n",
       "      <th>3</th>\n",
       "      <td>3</td>\n",
       "      <td>30.5</td>\n",
       "      <td>76.0</td>\n",
       "      <td>74.5</td>\n",
       "    </tr>\n",
       "  </tbody>\n",
       "</table>\n",
       "</div>"
      ],
      "text/plain": [
       "   cluster   Age  Annual Income (k$)  Spending Score (1-100)\n",
       "0        0  24.0                33.0                    69.0\n",
       "1        1  50.0                48.0                    46.0\n",
       "2        2  43.0                85.0                    16.0\n",
       "3        3  30.5                76.0                    74.5"
      ]
     },
     "execution_count": 26,
     "metadata": {},
     "output_type": "execute_result"
    }
   ],
   "source": [
    "med_df = frame.groupby(['cluster'], as_index=False).median()\n",
    "med_df"
   ]
  },
  {
   "cell_type": "markdown",
   "id": "5c3d00d8",
   "metadata": {
    "papermill": {
     "duration": 0.054564,
     "end_time": "2022-03-12T01:21:33.059444",
     "exception": false,
     "start_time": "2022-03-12T01:21:33.004880",
     "status": "completed"
    },
    "tags": []
   },
   "source": [
    "Cluster 0 - 30, 79, 70\n",
    "Young, high income, high spenders\n",
    "Cluster 1 - 52, 46, 40\n",
    "Nearing retirement, medium income, medium spenders\n",
    "Cluster 2 - 26, 32, 68\n",
    "Young, low income, big spenders\n",
    "Cluster 3 - 42, 88, 17\n",
    "Mid life, high income, low spenders"
   ]
  },
  {
   "cell_type": "code",
   "execution_count": null,
   "id": "c79f8be4",
   "metadata": {
    "papermill": {
     "duration": 0.054172,
     "end_time": "2022-03-12T01:21:33.168455",
     "exception": false,
     "start_time": "2022-03-12T01:21:33.114283",
     "status": "completed"
    },
    "tags": []
   },
   "outputs": [],
   "source": []
  }
 ],
 "metadata": {
  "kernelspec": {
   "display_name": "Python 3",
   "language": "python",
   "name": "python3"
  },
  "language_info": {
   "codemirror_mode": {
    "name": "ipython",
    "version": 3
   },
   "file_extension": ".py",
   "mimetype": "text/x-python",
   "name": "python",
   "nbconvert_exporter": "python",
   "pygments_lexer": "ipython3",
   "version": "3.7.12"
  },
  "papermill": {
   "default_parameters": {},
   "duration": 18.858095,
   "end_time": "2022-03-12T01:21:34.035568",
   "environment_variables": {},
   "exception": null,
   "input_path": "__notebook__.ipynb",
   "output_path": "__notebook__.ipynb",
   "parameters": {},
   "start_time": "2022-03-12T01:21:15.177473",
   "version": "2.3.3"
  }
 },
 "nbformat": 4,
 "nbformat_minor": 5
}
